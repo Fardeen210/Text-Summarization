{
 "cells": [
  {
   "cell_type": "code",
   "execution_count": null,
   "metadata": {},
   "outputs": [],
   "source": [
    "#In this file PDF content (TEXT, ABSTRACT) will be extracted\n",
    "# As example only one of most famous article\n",
    "\"Attention to detail\" #is used to produce summary"
   ]
  },
  {
   "cell_type": "code",
   "execution_count": 1,
   "metadata": {},
   "outputs": [],
   "source": [
    "import unstructured\n",
    "from unstructured.partition.pdf import partition_pdf"
   ]
  },
  {
   "cell_type": "code",
   "execution_count": null,
   "metadata": {},
   "outputs": [
    {
     "name": "stdout",
     "output_type": "stream",
     "text": [
      "working on Article_contents/Article_1/Article 1.pdf\n"
     ]
    }
   ],
   "source": [
    "base_dir = \"Article_contents\"\n",
    "\n",
    "for i in range(1,2):\n",
    "    article_folder = f\"{base_dir}/Article_{i}\"\n",
    "    pdf_path = f\"{article_folder}/Article {i}.pdf\"\n",
    "    images_folder = f\"{article_folder}/Images\"\n",
    "    document_order_path = f\"{article_folder}/Document_Order.txt\"\n",
    "    print(\"working on\",pdf_path)\n",
    "\n",
    "    elements = partition_pdf(\n",
    "        filename=pdf_path,                 \n",
    "        strategy=\"hi_res\",                  \n",
    "        extract_images_in_pdf=True,         \n",
    "        extract_image_block_types=[\"Image\", \"Table\"], \n",
    "        extract_image_block_to_payload=False,  \n",
    "        extract_image_block_output_dir=images_folder\n",
    "    )\n",
    "    element_extraction = process_elements(elements)\n",
    "\n",
    "    with open(document_order_path, \"w\", encoding=\"utf-8\") as f:\n",
    "        f.write(element_extraction[\"Document_order\"])\n",
    "        print(\"file has been extracted\")\n",
    "\n",
    "    print(\"Images and text extracted for:\",pdf_path)"
   ]
  },
  {
   "cell_type": "code",
   "execution_count": 8,
   "metadata": {},
   "outputs": [],
   "source": [
    "def process_elements(elements):\n",
    "    # Initialize lists to categorize elements\n",
    "    Header = []\n",
    "    Title = []\n",
    "    Footer = []\n",
    "    Text = []\n",
    "    List_item = []\n",
    "    Narrative_text = []\n",
    "    Document_order = []\n",
    "    abstract = []\n",
    "\n",
    "    for i, element in enumerate(elements):\n",
    "        # Get the next elements, if they exist\n",
    "        next_ele = elements[i + 1] if i + 1 < len(elements) else None\n",
    "        next_ele1 = elements[i + 2] if i + 2 < len(elements) else None\n",
    "\n",
    "        if \"unstructured.documents.elements.Header\" in str(type(element)):\n",
    "            Header.append(str(element))\n",
    "\n",
    "        elif \"unstructured.documents.elements.Footer\" in str(type(element)):\n",
    "            Footer.append(str(element))\n",
    "\n",
    "        elif \"unstructured.documents.elements.Title\" in str(type(element)):\n",
    "            title = str(element)\n",
    "\n",
    "            # Checking for \"Abstract\" and extracting one or two NarrativeText paragraphs\n",
    "            if title == \"Abstract\":\n",
    "                if next_ele and \"unstructured.documents.elements.NarrativeText\" in str(type(next_ele)):\n",
    "                    abstract.append(str(next_ele))\n",
    "                if next_ele1 and \"unstructured.documents.elements.NarrativeText\" in str(type(next_ele1)):\n",
    "                    abstract.append(str(next_ele1))\n",
    "\n",
    "            if title == \"Conclusion\":\n",
    "                Title.append(title)\n",
    "                Document_order.append(title)\n",
    "                if next_ele:\n",
    "                    Document_order.append(str(next_ele))\n",
    "                print(\"Conclusion found, exiting loop.\")\n",
    "                break\n",
    "\n",
    "            # Process numeric titles\n",
    "            if title and title[0].isdigit():\n",
    "                Title.append(title)\n",
    "                Document_order.append(title)\n",
    "\n",
    "        elif \"unstructured.documents.elements.NarrativeText\" in str(type(element)):\n",
    "            Narrative_text.append(str(element))\n",
    "            Document_order.append(str(element))\n",
    "        elif \"unstructured.documents.elements.Text\" in str(type(element)):\n",
    "            Text.append(str(element))\n",
    "            Document_order.append(str(element))\n",
    "        elif \"unstructured.documents.elements.ListItem\" in str(type(element)):\n",
    "            List_item.append(str(element))\n",
    "            Document_order.append(str(element))\n",
    "\n",
    "    # Combine the document order into a single string\n",
    "    Document_order = ' '.join(Document_order)\n",
    "    \n",
    "    return {\n",
    "        \"Header\": Header,\n",
    "        \"Title\": Title,\n",
    "        \"Footer\": Footer,\n",
    "        \"Text\": Text,\n",
    "        \"List_item\": List_item,\n",
    "        \"Narrative_text\": Narrative_text,\n",
    "        \"Document_order\": Document_order,\n",
    "        \"Abstract\": abstract\n",
    "    }"
   ]
  },
  {
   "cell_type": "code",
   "execution_count": null,
   "metadata": {},
   "outputs": [],
   "source": [
    "#Here we are using sematic Chunking from langchain\n",
    "from langchain_experimental.text_splitter import SemanticChunker\n",
    "from langchain_openai.embeddings import OpenAIEmbeddings\n",
    "from langchain_core.documents import Document\n",
    "\n",
    "text_splitter = SemanticChunker(OpenAIEmbeddings(),number_of_chunks=10, min_chunk_size=1500)\n",
    "text_docs = text_splitter.create_documents([Document_order])\n",
    "print(len(text_docs))"
   ]
  }
 ],
 "metadata": {
  "kernelspec": {
   "display_name": "Python 3",
   "language": "python",
   "name": "python3"
  },
  "language_info": {
   "codemirror_mode": {
    "name": "ipython",
    "version": 3
   },
   "file_extension": ".py",
   "mimetype": "text/x-python",
   "name": "python",
   "nbconvert_exporter": "python",
   "pygments_lexer": "ipython3",
   "version": "3.11.4"
  }
 },
 "nbformat": 4,
 "nbformat_minor": 2
}
